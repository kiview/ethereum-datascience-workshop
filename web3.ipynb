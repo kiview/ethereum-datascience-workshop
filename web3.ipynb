{
  "nbformat": 4,
  "nbformat_minor": 0,
  "metadata": {
    "orig_nbformat": 2,
    "kernelspec": {
      "name": "python3",
      "display_name": "Python 3"
    },
    "colab": {
      "name": "web3.ipynb",
      "provenance": [],
      "collapsed_sections": [],
      "toc_visible": true,
      "include_colab_link": true
    }
  },
  "cells": [
    {
      "cell_type": "markdown",
      "metadata": {
        "id": "view-in-github",
        "colab_type": "text"
      },
      "source": [
        "<a href=\"https://colab.research.google.com/github/kiview/ethereum-datascience-workshop/blob/master/web3.ipynb\" target=\"_parent\"><img src=\"https://colab.research.google.com/assets/colab-badge.svg\" alt=\"Open In Colab\"/></a>"
      ]
    },
    {
      "cell_type": "markdown",
      "metadata": {
        "id": "bAnagOk4yHUT",
        "colab_type": "text"
      },
      "source": [
        "We first install some necessary Python packages."
      ]
    },
    {
      "cell_type": "code",
      "metadata": {
        "id": "PTjlBp6ceF4s",
        "colab_type": "code",
        "colab": {}
      },
      "source": [
        "!pip uninstall -y chainer # would lead to conflicts with web3 with regards to typing-extensions\n",
        "!pip install web3 pandas matplotlib ipywidgets"
      ],
      "execution_count": null,
      "outputs": []
    },
    {
      "cell_type": "markdown",
      "metadata": {
        "id": "gZK8ivkhrrjI",
        "colab_type": "text"
      },
      "source": [
        "**Important**: Restart the Runtime after installing the packages (`Ctrl + M .`)"
      ]
    },
    {
      "cell_type": "code",
      "metadata": {
        "id": "m9Q0qHgGZ7mr",
        "colab_type": "code",
        "colab": {}
      },
      "source": [
        "from web3 import Web3\n",
        "from IPython.display import HTML, display\n",
        "import pandas as pd\n",
        "import matplotlib.pyplot as plt\n",
        "from tqdm.notebook import trange"
      ],
      "execution_count": null,
      "outputs": []
    },
    {
      "cell_type": "markdown",
      "metadata": {
        "id": "9jECGS2syU1R",
        "colab_type": "text"
      },
      "source": [
        "Connecting to the [bloxberg](https://bloxberg.org/) Ethereum network using [Web3.py](https://web3py.readthedocs.io/en/stable/) and a WebSocket connection."
      ]
    },
    {
      "cell_type": "code",
      "metadata": {
        "id": "RgonuZWwZ7mu",
        "colab_type": "code",
        "colab": {}
      },
      "source": [
        "w3 = Web3(Web3.WebsocketProvider('wss://websockets.bloxberg.org'))\n",
        "w3.isConnected()"
      ],
      "execution_count": null,
      "outputs": []
    },
    {
      "cell_type": "markdown",
      "metadata": {
        "id": "pw2VxByLyvci",
        "colab_type": "text"
      },
      "source": [
        "Let's extract a number of blocks and transactions! There is much more data that can be extract from blocks and transactions, check the [API](https://web3py.readthedocs.io/en/stable/web3.eth.html)."
      ]
    },
    {
      "cell_type": "code",
      "metadata": {
        "tags": [],
        "id": "YV5psQpOZ7my",
        "colab_type": "code",
        "colab": {}
      },
      "source": [
        "start_block = 2000000\n",
        "end_block = 2000500\n",
        "\n",
        "addresses = set()\n",
        "transactions = []\n",
        "for idx in trange(start_block, end_block): # trange gives us a neat progress bar\n",
        "    b = w3.eth.getBlock(idx, full_transactions=True)\n",
        "    for tx in b.transactions:\n",
        "        addresses.add(tx['to'])\n",
        "        addresses.add(tx['from'])\n",
        "        transactions.append([b.timestamp, idx, tx['to'], tx['from']])"
      ],
      "execution_count": null,
      "outputs": []
    },
    {
      "cell_type": "markdown",
      "metadata": {
        "id": "0heu20Iqy1-T",
        "colab_type": "text"
      },
      "source": [
        "It's always nice to be able to use Pandas DataFrames for further processing."
      ]
    },
    {
      "cell_type": "code",
      "metadata": {
        "id": "iEK8pYGqZ7m1",
        "colab_type": "code",
        "colab": {}
      },
      "source": [
        "df = pd.DataFrame(transactions, columns = ['Timestamp', 'Block', 'From', 'To']) \n",
        "df"
      ],
      "execution_count": null,
      "outputs": []
    }
  ]
}