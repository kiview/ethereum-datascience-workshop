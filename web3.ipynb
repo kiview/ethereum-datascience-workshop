{
  "nbformat": 4,
  "nbformat_minor": 0,
  "metadata": {
    "orig_nbformat": 2,
    "kernelspec": {
      "name": "python3",
      "display_name": "Python 3"
    },
    "colab": {
      "name": "web3.ipynb",
      "provenance": [],
      "collapsed_sections": [],
      "toc_visible": true,
      "include_colab_link": true
    }
  },
  "cells": [
    {
      "cell_type": "markdown",
      "metadata": {
        "id": "view-in-github",
        "colab_type": "text"
      },
      "source": [
        "<a href=\"https://colab.research.google.com/github/kiview/ethereum-datascience-workshop/blob/master/web3.ipynb\" target=\"_parent\"><img src=\"https://colab.research.google.com/assets/colab-badge.svg\" alt=\"Open In Colab\"/></a>"
      ]
    },
    {
      "cell_type": "markdown",
      "metadata": {
        "id": "bAnagOk4yHUT",
        "colab_type": "text"
      },
      "source": [
        "We first install some necessary Python packages."
      ]
    },
    {
      "cell_type": "code",
      "metadata": {
        "id": "PTjlBp6ceF4s",
        "colab_type": "code",
        "colab": {}
      },
      "source": [
        "!pip uninstall -y chainer # would lead to conflicts with web3 with regards to typing-extensions\n",
        "!pip install web3 pandas matplotlib ipywidgets"
      ],
      "execution_count": null,
      "outputs": []
    },
    {
      "cell_type": "markdown",
      "metadata": {
        "id": "gZK8ivkhrrjI",
        "colab_type": "text"
      },
      "source": [
        "**Important**: Restart the Runtime after installing the packages (`Ctrl + M .`)"
      ]
    },
    {
      "cell_type": "code",
      "metadata": {
        "id": "m9Q0qHgGZ7mr",
        "colab_type": "code",
        "colab": {}
      },
      "source": [
        "from web3 import Web3\n",
        "from IPython.display import HTML, display\n",
        "import pandas as pd\n",
        "import matplotlib.pyplot as plt\n",
        "from tqdm.notebook import trange"
      ],
      "execution_count": 20,
      "outputs": []
    },
    {
      "cell_type": "markdown",
      "metadata": {
        "id": "9jECGS2syU1R",
        "colab_type": "text"
      },
      "source": [
        "Connecting to the [bloxberg](https://bloxberg.org/) Ethereum network using [Web3.py](https://web3py.readthedocs.io/en/stable/) and a WebSocket connection."
      ]
    },
    {
      "cell_type": "code",
      "metadata": {
        "id": "RgonuZWwZ7mu",
        "colab_type": "code",
        "colab": {
          "base_uri": "https://localhost:8080/",
          "height": 34
        },
        "outputId": "f6c46723-6cfa-45a2-9cdf-478cd8fafbea"
      },
      "source": [
        "w3 = Web3(Web3.WebsocketProvider('wss://websockets.bloxberg.org'))\n",
        "w3.isConnected()"
      ],
      "execution_count": 21,
      "outputs": [
        {
          "output_type": "execute_result",
          "data": {
            "text/plain": [
              "True"
            ]
          },
          "metadata": {
            "tags": []
          },
          "execution_count": 21
        }
      ]
    },
    {
      "cell_type": "markdown",
      "metadata": {
        "id": "pw2VxByLyvci",
        "colab_type": "text"
      },
      "source": [
        "Let's extract a number of blocks and transactions! There is much more data that can be extract from blocks and transactions, check the [API](https://web3py.readthedocs.io/en/stable/web3.eth.html)."
      ]
    },
    {
      "cell_type": "code",
      "metadata": {
        "tags": [],
        "id": "YV5psQpOZ7my",
        "colab_type": "code",
        "colab": {}
      },
      "source": [
        "start_block = 2000000\n",
        "end_block = 2000500\n",
        "\n",
        "addresses = set()\n",
        "transactions = []\n",
        "for idx in trange(start_block, end_block): # trange gives us a neat progress bar\n",
        "    b = w3.eth.getBlock(idx, full_transactions=True)\n",
        "    for tx in b.transactions:\n",
        "        addresses.add(tx['to'])\n",
        "        addresses.add(tx['from'])\n",
        "        transactions.append([b.timestamp, idx, tx['to'], tx['from']])"
      ],
      "execution_count": null,
      "outputs": []
    },
    {
      "cell_type": "markdown",
      "metadata": {
        "id": "0heu20Iqy1-T",
        "colab_type": "text"
      },
      "source": [
        "It's always nice to be able to use Pandas DataFrames for further processing."
      ]
    },
    {
      "cell_type": "code",
      "metadata": {
        "id": "iEK8pYGqZ7m1",
        "colab_type": "code",
        "colab": {
          "base_uri": "https://localhost:8080/",
          "height": 402
        },
        "outputId": "3486a7f7-f4be-4377-d6ec-c25154be9e86"
      },
      "source": [
        "df = pd.DataFrame(transactions, columns = ['Timestamp', 'Block', 'From', 'To']) \n",
        "df"
      ],
      "execution_count": 22,
      "outputs": [
        {
          "output_type": "execute_result",
          "data": {
            "text/html": [
              "<div>\n",
              "<style scoped>\n",
              "    .dataframe tbody tr th:only-of-type {\n",
              "        vertical-align: middle;\n",
              "    }\n",
              "\n",
              "    .dataframe tbody tr th {\n",
              "        vertical-align: top;\n",
              "    }\n",
              "\n",
              "    .dataframe thead th {\n",
              "        text-align: right;\n",
              "    }\n",
              "</style>\n",
              "<table border=\"1\" class=\"dataframe\">\n",
              "  <thead>\n",
              "    <tr style=\"text-align: right;\">\n",
              "      <th></th>\n",
              "      <th>Timestamp</th>\n",
              "      <th>Block</th>\n",
              "      <th>From</th>\n",
              "      <th>To</th>\n",
              "    </tr>\n",
              "  </thead>\n",
              "  <tbody>\n",
              "    <tr>\n",
              "      <th>0</th>\n",
              "      <td>1559537405</td>\n",
              "      <td>2000000</td>\n",
              "      <td>0x9850711951A84Ef8a2A31a7868d0dCa34B0661cA</td>\n",
              "      <td>0x8De281f47B137979e55B6CEa598179737574C774</td>\n",
              "    </tr>\n",
              "    <tr>\n",
              "      <th>1</th>\n",
              "      <td>1559537405</td>\n",
              "      <td>2000000</td>\n",
              "      <td>0x9850711951A84Ef8a2A31a7868d0dCa34B0661cA</td>\n",
              "      <td>0xAcFfb14f786a485ab7F3fef5D9F092A69F929CA4</td>\n",
              "    </tr>\n",
              "    <tr>\n",
              "      <th>2</th>\n",
              "      <td>1559537405</td>\n",
              "      <td>2000000</td>\n",
              "      <td>0x9850711951A84Ef8a2A31a7868d0dCa34B0661cA</td>\n",
              "      <td>0x1eF319dB1930e3420fCfF90c376d9cf515B34876</td>\n",
              "    </tr>\n",
              "    <tr>\n",
              "      <th>3</th>\n",
              "      <td>1559537405</td>\n",
              "      <td>2000000</td>\n",
              "      <td>0x9850711951A84Ef8a2A31a7868d0dCa34B0661cA</td>\n",
              "      <td>0xc330469e600D3792d646a7D412D024EeA544cE00</td>\n",
              "    </tr>\n",
              "    <tr>\n",
              "      <th>4</th>\n",
              "      <td>1559537405</td>\n",
              "      <td>2000000</td>\n",
              "      <td>0x9850711951A84Ef8a2A31a7868d0dCa34B0661cA</td>\n",
              "      <td>0xe659bc6A60Ba2091c08F7df623BA6057349B6980</td>\n",
              "    </tr>\n",
              "    <tr>\n",
              "      <th>...</th>\n",
              "      <td>...</td>\n",
              "      <td>...</td>\n",
              "      <td>...</td>\n",
              "      <td>...</td>\n",
              "    </tr>\n",
              "    <tr>\n",
              "      <th>606</th>\n",
              "      <td>1559540245</td>\n",
              "      <td>2000497</td>\n",
              "      <td>0x9850711951A84Ef8a2A31a7868d0dCa34B0661cA</td>\n",
              "      <td>0xc330469e600D3792d646a7D412D024EeA544cE00</td>\n",
              "    </tr>\n",
              "    <tr>\n",
              "      <th>607</th>\n",
              "      <td>1559540245</td>\n",
              "      <td>2000497</td>\n",
              "      <td>0x9850711951A84Ef8a2A31a7868d0dCa34B0661cA</td>\n",
              "      <td>0xaA84378fA41da83a9B6523bA46E45A664FbEBFC8</td>\n",
              "    </tr>\n",
              "    <tr>\n",
              "      <th>608</th>\n",
              "      <td>1559540245</td>\n",
              "      <td>2000497</td>\n",
              "      <td>0x9850711951A84Ef8a2A31a7868d0dCa34B0661cA</td>\n",
              "      <td>0x93dA5507a26090448a03FC1F77e1C7DA20A24292</td>\n",
              "    </tr>\n",
              "    <tr>\n",
              "      <th>609</th>\n",
              "      <td>1559540245</td>\n",
              "      <td>2000497</td>\n",
              "      <td>0x9850711951A84Ef8a2A31a7868d0dCa34B0661cA</td>\n",
              "      <td>0xe659bc6A60Ba2091c08F7df623BA6057349B6980</td>\n",
              "    </tr>\n",
              "    <tr>\n",
              "      <th>610</th>\n",
              "      <td>1559540245</td>\n",
              "      <td>2000497</td>\n",
              "      <td>0x9850711951A84Ef8a2A31a7868d0dCa34B0661cA</td>\n",
              "      <td>0x2fa6f57FF56A1DA41FB7C6a176F630641e20Cd53</td>\n",
              "    </tr>\n",
              "  </tbody>\n",
              "</table>\n",
              "<p>611 rows × 4 columns</p>\n",
              "</div>"
            ],
            "text/plain": [
              "      Timestamp  ...                                          To\n",
              "0    1559537405  ...  0x8De281f47B137979e55B6CEa598179737574C774\n",
              "1    1559537405  ...  0xAcFfb14f786a485ab7F3fef5D9F092A69F929CA4\n",
              "2    1559537405  ...  0x1eF319dB1930e3420fCfF90c376d9cf515B34876\n",
              "3    1559537405  ...  0xc330469e600D3792d646a7D412D024EeA544cE00\n",
              "4    1559537405  ...  0xe659bc6A60Ba2091c08F7df623BA6057349B6980\n",
              "..          ...  ...                                         ...\n",
              "606  1559540245  ...  0xc330469e600D3792d646a7D412D024EeA544cE00\n",
              "607  1559540245  ...  0xaA84378fA41da83a9B6523bA46E45A664FbEBFC8\n",
              "608  1559540245  ...  0x93dA5507a26090448a03FC1F77e1C7DA20A24292\n",
              "609  1559540245  ...  0xe659bc6A60Ba2091c08F7df623BA6057349B6980\n",
              "610  1559540245  ...  0x2fa6f57FF56A1DA41FB7C6a176F630641e20Cd53\n",
              "\n",
              "[611 rows x 4 columns]"
            ]
          },
          "metadata": {
            "tags": []
          },
          "execution_count": 22
        }
      ]
    }
  ]
}
